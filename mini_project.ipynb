{
  "nbformat": 4,
  "nbformat_minor": 0,
  "metadata": {
    "colab": {
      "name": "mini project.ipynb",
      "provenance": [],
      "authorship_tag": "ABX9TyPqHYZJ8RQ4ix/vSHs6vRPw",
      "include_colab_link": true
    },
    "kernelspec": {
      "name": "python3",
      "display_name": "Python 3"
    }
  },
  "cells": [
    {
      "cell_type": "markdown",
      "metadata": {
        "id": "view-in-github",
        "colab_type": "text"
      },
      "source": [
        "<a href=\"https://colab.research.google.com/github/Ajeet-Yadav782000/mini_project/blob/main/mini_project.ipynb\" target=\"_parent\"><img src=\"https://colab.research.google.com/assets/colab-badge.svg\" alt=\"Open In Colab\"/></a>"
      ]
    },
    {
      "cell_type": "code",
      "metadata": {
        "colab": {
          "base_uri": "https://localhost:8080/"
        },
        "id": "NmA3LPL6o4wO",
        "outputId": "17f4b29f-331e-4e29-9106-b8fa066565d8"
      },
      "source": [
        "!pip install bing-image-downloader"
      ],
      "execution_count": 1,
      "outputs": [
        {
          "output_type": "stream",
          "text": [
            "Collecting bing-image-downloader\n",
            "  Downloading https://files.pythonhosted.org/packages/0d/bf/537a61030b84ae4cd5022d5c7b014fd9bc3ce7c02358919153a6658a61d3/bing_image_downloader-1.0.4-py3-none-any.whl\n",
            "Installing collected packages: bing-image-downloader\n",
            "Successfully installed bing-image-downloader-1.0.4\n"
          ],
          "name": "stdout"
        }
      ]
    },
    {
      "cell_type": "code",
      "metadata": {
        "id": "-j9yPbKNp6Zx"
      },
      "source": [
        "!mkdir images"
      ],
      "execution_count": 2,
      "outputs": []
    },
    {
      "cell_type": "code",
      "metadata": {
        "colab": {
          "base_uri": "https://localhost:8080/"
        },
        "id": "a8Ca_SyGqCIS",
        "outputId": "fcaddee0-e1db-46e1-d862-3c2afa10b768"
      },
      "source": [
        "from bing_image_downloader import downloader\r\n",
        "downloader.download(\"dog\",limit=20,output_dir='images',adult_filter_off=True)\r\n"
      ],
      "execution_count": 122,
      "outputs": [
        {
          "output_type": "stream",
          "text": [
            "\n",
            "\n",
            "[!!]Indexing page: 1\n",
            "\n",
            "[%] Indexed 20 Images on Page 1.\n",
            "\n",
            "===============================================\n",
            "\n",
            "[%] Downloading Image #1 from https://upload.wikimedia.org/wikipedia/commons/thumb/b/b8/Australian_Catle_Dog_Silverbarn's_Paavo.jpg/1200px-Australian_Catle_Dog_Silverbarn's_Paavo.jpg\n",
            "[%] File Downloaded !\n",
            "\n",
            "[%] Downloading Image #2 from https://media.mercola.com/ImageServer/Public/2018/October/FB/dog-breeds-for-active-people-fb.jpg\n",
            "[%] File Downloaded !\n",
            "\n",
            "[%] Downloading Image #3 from https://peopledotcom.files.wordpress.com/2017/05/downward-dog-2.jpg\n",
            "[%] File Downloaded !\n",
            "\n",
            "[%] Downloading Image #4 from http://www.parade.pet/assets-v2/images/dog/img-dogs/02.jpg\n",
            "[%] File Downloaded !\n",
            "\n",
            "[%] Downloading Image #5 from https://www.k9web.com/wp-content/uploads/2019/01/basenjis-dog.jpg\n",
            "[%] File Downloaded !\n",
            "\n",
            "[%] Downloading Image #6 from https://www.outsideonline.com/sites/default/files/2015/06/22/fitness-dog-smiling_s.jpg\n",
            "[%] File Downloaded !\n",
            "\n",
            "[%] Downloading Image #7 from https://whatson.ae/dubai/wp-content/uploads/2017/01/GettyImages-683865065.jpg\n",
            "[%] File Downloaded !\n",
            "\n",
            "[%] Downloading Image #8 from https://sydneydruglawyers.com.au/wp-content/uploads/sniffer-dog-1024x1024.jpg\n",
            "[%] File Downloaded !\n",
            "\n",
            "[%] Downloading Image #9 from http://www.rspcasa.org.au/wp-content/uploads/2018/11/Puppy_dogtraining.jpg\n",
            "[%] File Downloaded !\n",
            "\n",
            "[%] Downloading Image #10 from https://animalcorner.org/wp-content/uploads/2020/07/Japanese-Dog-Breeds-Akita.jpg\n",
            "[%] File Downloaded !\n",
            "\n",
            "[%] Downloading Image #11 from https://upload.wikimedia.org/wikipedia/commons/thumb/3/30/Photo_de_Samoyède.jpg/1200px-Photo_de_Samoyède.jpg\n",
            "[!] Issue getting: https://upload.wikimedia.org/wikipedia/commons/thumb/3/30/Photo_de_Samoyède.jpg/1200px-Photo_de_Samoyède.jpg\n",
            "[!] Error:: 'ascii' codec can't encode character '\\xe8' in position 48: ordinal not in range(128)\n",
            "[%] Downloading Image #11 from https://gfp-2a3tnpzj.stackpathdns.com/wp-content/uploads/2017/11/winter-dog-safety-guide-dog-in-snow-with-scarf-1600x1067.jpg\n",
            "[%] File Downloaded !\n",
            "\n",
            "[%] Downloading Image #12 from http://media2.s-nbcnews.com/i/streams/2012/September/120912/539485-tdy-AT-120912-lucky-04.jpg\n",
            "[%] File Downloaded !\n",
            "\n",
            "[%] Downloading Image #13 from https://jooinn.com/images/dog-67.jpg\n",
            "[%] File Downloaded !\n",
            "\n",
            "[%] Downloading Image #14 from https://upload.wikimedia.org/wikipedia/commons/5/54/Pomsky_Dog_Breed_-_Pomeranian_Husky_Mix.jpg\n",
            "[%] File Downloaded !\n",
            "\n",
            "[%] Downloading Image #15 from https://www.organicauthority.com/.image/t_share/MTU5MzI5NjYxMTcwNjIzNzAy/img_5121.jpg\n",
            "[%] File Downloaded !\n",
            "\n",
            "[%] Downloading Image #16 from https://www.yourpetspace.info/wp-content/uploads/2014/04/sad-dog-3.jpg\n",
            "[%] File Downloaded !\n",
            "\n",
            "[%] Downloading Image #17 from https://upload.wikimedia.org/wikipedia/commons/thumb/c/c5/Dog_shaming.jpg/1920px-Dog_shaming.jpg\n",
            "[%] File Downloaded !\n",
            "\n",
            "[%] Downloading Image #18 from https://upload.wikimedia.org/wikipedia/commons/thumb/b/ba/African_wild_dog_(Lycaon_pictus_pictus).jpg/1920px-African_wild_dog_(Lycaon_pictus_pictus).jpg\n",
            "[Error]Invalid image, not saving https://upload.wikimedia.org/wikipedia/commons/thumb/b/ba/African_wild_dog_(Lycaon_pictus_pictus).jpg/1920px-African_wild_dog_(Lycaon_pictus_pictus).jpg\n",
            "\n",
            "[!] Issue getting: https://upload.wikimedia.org/wikipedia/commons/thumb/b/ba/African_wild_dog_(Lycaon_pictus_pictus).jpg/1920px-African_wild_dog_(Lycaon_pictus_pictus).jpg\n",
            "[!] Error:: No active exception to reraise\n",
            "[%] Downloading Image #18 from http://images.hellogiggles.com/uploads/2017/02/04230309/happy-dog.jpg\n",
            "[%] File Downloaded !\n",
            "\n",
            "\n",
            "\n",
            "[!!]Indexing page: 2\n",
            "\n",
            "[%] Indexed 35 Images on Page 2.\n",
            "\n",
            "===============================================\n",
            "\n",
            "[%] Downloading Image #19 from https://upload.wikimedia.org/wikipedia/commons/thumb/b/b8/Australian_Catle_Dog_Silverbarn's_Paavo.jpg/1200px-Australian_Catle_Dog_Silverbarn's_Paavo.jpg\n",
            "[%] File Downloaded !\n",
            "\n",
            "[%] Downloading Image #20 from https://img.thrfun.com/img/083/608/panting_dog_x1.jpg\n",
            "[%] File Downloaded !\n",
            "\n",
            "\n",
            "\n",
            "[%] Done. Downloaded 20 images.\n",
            "\n",
            "===============================================\n",
            "\n"
          ],
          "name": "stdout"
        }
      ]
    },
    {
      "cell_type": "code",
      "metadata": {
        "id": "mPlj0ZOy8631"
      },
      "source": [
        ""
      ],
      "execution_count": null,
      "outputs": []
    },
    {
      "cell_type": "code",
      "metadata": {
        "id": "IbAFnshI87Q4"
      },
      "source": [
        ""
      ],
      "execution_count": null,
      "outputs": []
    },
    {
      "cell_type": "code",
      "metadata": {
        "id": "fqNYQ5RhyfrD"
      },
      "source": [
        "import os\r\n",
        "import matplotlib.pyplot as plt\r\n",
        "import numpy as np\r\n",
        "from skimage.io import imread\r\n",
        "from skimage.transform import resize"
      ],
      "execution_count": null,
      "outputs": []
    },
    {
      "cell_type": "code",
      "metadata": {
        "id": "aOG7Z6QX2hTH"
      },
      "source": [
        "target=[]\r\n",
        "images=[]\r\n",
        "flat_data=[]\r\n",
        "DATADIR='/content/images'\r\n",
        "CATEGORIES=['cat','dog']\r\n",
        "for category in CATEGORIES:\r\n",
        "  class_num=CATEGORIES.index(category)\r\n",
        "  path=os.path.join(DATADIR,category)\r\n"
      ],
      "execution_count": null,
      "outputs": []
    },
    {
      "cell_type": "code",
      "metadata": {
        "id": "6ePOdRs83q3p"
      },
      "source": [
        "for img in os.listdir(path):\r\n",
        "  img_array=imread(os.path.join(path,img))\r\n",
        "  img_resized=resize(img_array,(150,150,3))\r\n",
        "  flat_data.append(img_resized.flatten())\r\n",
        "  images.append(img_resized)\r\n",
        "  target.append(class_num)\r\n"
      ],
      "execution_count": 79,
      "outputs": []
    },
    {
      "cell_type": "code",
      "metadata": {
        "id": "bIpvUsuv50l8"
      },
      "source": [
        "flat_data=np.array(flat_data)\r\n",
        "target = np.array(target)\r\n",
        "images=np.array(images)\r\n"
      ],
      "execution_count": 116,
      "outputs": []
    },
    {
      "cell_type": "code",
      "metadata": {
        "id": "kuGohJD_zHkq"
      },
      "source": [
        "from sklearn.model_selection import train_test_split\r\n",
        "y_train = y_train.astype(np.int8)\r\n",
        "x_train,x_test,y_train,y_test=train_test_split(flat_data,target,test_size=0.3,random_state=109)\r\n",
        "from sklearn.model_selection import GridSearchCV\r\n",
        "from sklearn import svm\r\n",
        "param_grid=[{'C':[1,10,100,1000],'kernel':['linear']},\r\n",
        "           {'C':[1,10,100,1000],'gamma':[0.01,0.001],'kernel':['rbf']}]\r\n",
        "svc=svm.SVC(probability=True)\r\n",
        "clf=GridSearchCV(svc,param_grid)\r\n",
        "clf.fit(x_train,y_train)\r\n",
        "y_pred=clf.predict(x_test)\r\n",
        "\r\n"
      ],
      "execution_count": null,
      "outputs": []
    },
    {
      "cell_type": "code",
      "metadata": {
        "id": "yTSgCp2dw6h6"
      },
      "source": [
        "from sklearn metrics import accuracy_score,confusion_matrix\r\n",
        "accuracy_score(y_pred,y_test)\r\n",
        "confusion_matrix(y_pred,y_test)\r\n"
      ],
      "execution_count": null,
      "outputs": []
    },
    {
      "cell_type": "code",
      "metadata": {
        "id": "dOFTAlRIzNqF"
      },
      "source": [
        "import pickle\r\n",
        "pickle.dump(clf,open('img.model.p','wb'))\r\n",
        "model=pickle.load(open('img_model.p','rb'))\r\n",
        "flat_data=[]\r\n",
        "url=input('enter the url')\r\n",
        "img=imread(url)\r\n",
        "img_resize=resize(img,(150,150,3))\r\n",
        "flat_data.append(img_resized.flatten())\r\n",
        "flat_data=np.array(flat_data)\r\n",
        "print(img.shape)\r\n",
        "plt.imshow(img_resized)\r\n",
        "y_out=model.predict(flat_data)\r\n",
        "y_out=CATEGORIES[y_out[0]]\r\n",
        "print(f'PREDICTED OUTPUT:{y_out}')"
      ],
      "execution_count": null,
      "outputs": []
    }
  ]
}